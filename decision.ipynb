{
 "cells": [
  {
   "cell_type": "code",
   "execution_count": 1,
   "metadata": {},
   "outputs": [],
   "source": [
    "from sklearn.model_selection import train_test_split\n",
    "import pandas as pd"
   ]
  },
  {
   "cell_type": "code",
   "execution_count": 2,
   "metadata": {},
   "outputs": [],
   "source": [
    "df=pd.read_csv('D:/Semester 8/NLP/IA/sentimentanalyis_1-main/Labelling reviews/labelled_reviews2.csv')\n",
    "\n",
    "train, test = train_test_split(df, test_size=0.2, random_state=25)"
   ]
  },
  {
   "cell_type": "code",
   "execution_count": 3,
   "metadata": {},
   "outputs": [
    {
     "data": {
      "text/html": [
       "<div>\n",
       "<style scoped>\n",
       "    .dataframe tbody tr th:only-of-type {\n",
       "        vertical-align: middle;\n",
       "    }\n",
       "\n",
       "    .dataframe tbody tr th {\n",
       "        vertical-align: top;\n",
       "    }\n",
       "\n",
       "    .dataframe thead th {\n",
       "        text-align: right;\n",
       "    }\n",
       "</style>\n",
       "<table border=\"1\" class=\"dataframe\">\n",
       "  <thead>\n",
       "    <tr style=\"text-align: right;\">\n",
       "      <th></th>\n",
       "      <th>Unnamed: 0.2</th>\n",
       "      <th>Unnamed: 0.1</th>\n",
       "      <th>Unnamed: 0</th>\n",
       "      <th>reviews</th>\n",
       "      <th>new_reviews</th>\n",
       "      <th>Positive</th>\n",
       "      <th>Negative</th>\n",
       "      <th>Neutral</th>\n",
       "      <th>Compound</th>\n",
       "      <th>Sentiment</th>\n",
       "    </tr>\n",
       "  </thead>\n",
       "  <tbody>\n",
       "    <tr>\n",
       "      <th>1389</th>\n",
       "      <td>1438</td>\n",
       "      <td>1438</td>\n",
       "      <td>1438</td>\n",
       "      <td>\\ncompared to the picture the product looks ve...</td>\n",
       "      <td>compare picture product look goodi like qualit...</td>\n",
       "      <td>0.217</td>\n",
       "      <td>0.0</td>\n",
       "      <td>0.783</td>\n",
       "      <td>0.3612</td>\n",
       "      <td>0</td>\n",
       "    </tr>\n",
       "    <tr>\n",
       "      <th>2865</th>\n",
       "      <td>2953</td>\n",
       "      <td>2953</td>\n",
       "      <td>2953</td>\n",
       "      <td>\\nProduct quality is good in every feature\\n</td>\n",
       "      <td>product quality good every feature</td>\n",
       "      <td>0.420</td>\n",
       "      <td>0.0</td>\n",
       "      <td>0.580</td>\n",
       "      <td>0.4404</td>\n",
       "      <td>0</td>\n",
       "    </tr>\n",
       "    <tr>\n",
       "      <th>1299</th>\n",
       "      <td>1343</td>\n",
       "      <td>1343</td>\n",
       "      <td>1343</td>\n",
       "      <td>\\nBought for my niece for her UKG. It's spacio...</td>\n",
       "      <td>buy niece ukg spacious light weight appropriat...</td>\n",
       "      <td>0.248</td>\n",
       "      <td>0.0</td>\n",
       "      <td>0.752</td>\n",
       "      <td>0.7650</td>\n",
       "      <td>0</td>\n",
       "    </tr>\n",
       "    <tr>\n",
       "      <th>2318</th>\n",
       "      <td>2394</td>\n",
       "      <td>2394</td>\n",
       "      <td>2394</td>\n",
       "      <td>\\nProduct looks good and stylish. Got a 48L on...</td>\n",
       "      <td>product look good stylish get 48l one short tr...</td>\n",
       "      <td>0.151</td>\n",
       "      <td>0.0</td>\n",
       "      <td>0.849</td>\n",
       "      <td>0.7689</td>\n",
       "      <td>0</td>\n",
       "    </tr>\n",
       "    <tr>\n",
       "      <th>684</th>\n",
       "      <td>709</td>\n",
       "      <td>709</td>\n",
       "      <td>709</td>\n",
       "      <td>\\nColour, the material used and inner compartm...</td>\n",
       "      <td>colour material use inner compartment good</td>\n",
       "      <td>0.367</td>\n",
       "      <td>0.0</td>\n",
       "      <td>0.633</td>\n",
       "      <td>0.4404</td>\n",
       "      <td>0</td>\n",
       "    </tr>\n",
       "  </tbody>\n",
       "</table>\n",
       "</div>"
      ],
      "text/plain": [
       "      Unnamed: 0.2  Unnamed: 0.1  Unnamed: 0  \\\n",
       "1389          1438          1438        1438   \n",
       "2865          2953          2953        2953   \n",
       "1299          1343          1343        1343   \n",
       "2318          2394          2394        2394   \n",
       "684            709           709         709   \n",
       "\n",
       "                                                reviews  \\\n",
       "1389  \\ncompared to the picture the product looks ve...   \n",
       "2865       \\nProduct quality is good in every feature\\n   \n",
       "1299  \\nBought for my niece for her UKG. It's spacio...   \n",
       "2318  \\nProduct looks good and stylish. Got a 48L on...   \n",
       "684   \\nColour, the material used and inner compartm...   \n",
       "\n",
       "                                            new_reviews  Positive  Negative  \\\n",
       "1389  compare picture product look goodi like qualit...     0.217       0.0   \n",
       "2865                 product quality good every feature     0.420       0.0   \n",
       "1299  buy niece ukg spacious light weight appropriat...     0.248       0.0   \n",
       "2318  product look good stylish get 48l one short tr...     0.151       0.0   \n",
       "684          colour material use inner compartment good     0.367       0.0   \n",
       "\n",
       "      Neutral  Compound  Sentiment  \n",
       "1389    0.783    0.3612          0  \n",
       "2865    0.580    0.4404          0  \n",
       "1299    0.752    0.7650          0  \n",
       "2318    0.849    0.7689          0  \n",
       "684     0.633    0.4404          0  "
      ]
     },
     "execution_count": 3,
     "metadata": {},
     "output_type": "execute_result"
    }
   ],
   "source": [
    "train.head()"
   ]
  },
  {
   "cell_type": "code",
   "execution_count": 4,
   "metadata": {},
   "outputs": [
    {
     "data": {
      "text/html": [
       "<div>\n",
       "<style scoped>\n",
       "    .dataframe tbody tr th:only-of-type {\n",
       "        vertical-align: middle;\n",
       "    }\n",
       "\n",
       "    .dataframe tbody tr th {\n",
       "        vertical-align: top;\n",
       "    }\n",
       "\n",
       "    .dataframe thead th {\n",
       "        text-align: right;\n",
       "    }\n",
       "</style>\n",
       "<table border=\"1\" class=\"dataframe\">\n",
       "  <thead>\n",
       "    <tr style=\"text-align: right;\">\n",
       "      <th></th>\n",
       "      <th>Unnamed: 0.2</th>\n",
       "      <th>Unnamed: 0.1</th>\n",
       "      <th>Unnamed: 0</th>\n",
       "      <th>reviews</th>\n",
       "      <th>new_reviews</th>\n",
       "      <th>Positive</th>\n",
       "      <th>Negative</th>\n",
       "      <th>Neutral</th>\n",
       "      <th>Compound</th>\n",
       "      <th>Sentiment</th>\n",
       "    </tr>\n",
       "  </thead>\n",
       "  <tbody>\n",
       "    <tr>\n",
       "      <th>2174</th>\n",
       "      <td>2249</td>\n",
       "      <td>2249</td>\n",
       "      <td>2249</td>\n",
       "      <td>\\nMy daughter love this bag thanks 💕\\n</td>\n",
       "      <td>daughter love bag thank</td>\n",
       "      <td>0.770</td>\n",
       "      <td>0.00</td>\n",
       "      <td>0.230</td>\n",
       "      <td>0.7717</td>\n",
       "      <td>0</td>\n",
       "    </tr>\n",
       "    <tr>\n",
       "      <th>3035</th>\n",
       "      <td>3128</td>\n",
       "      <td>3128</td>\n",
       "      <td>3128</td>\n",
       "      <td>\\nI bought this for my 5year old boy. It has v...</td>\n",
       "      <td>buy 5year old boy good quality space store boo...</td>\n",
       "      <td>0.318</td>\n",
       "      <td>0.00</td>\n",
       "      <td>0.682</td>\n",
       "      <td>0.8934</td>\n",
       "      <td>0</td>\n",
       "    </tr>\n",
       "    <tr>\n",
       "      <th>1020</th>\n",
       "      <td>1056</td>\n",
       "      <td>1056</td>\n",
       "      <td>1056</td>\n",
       "      <td>\\nThe American Tourister 32L backpack is a rel...</td>\n",
       "      <td>american tourister 32l backpack reliable pract...</td>\n",
       "      <td>0.205</td>\n",
       "      <td>0.01</td>\n",
       "      <td>0.785</td>\n",
       "      <td>0.9686</td>\n",
       "      <td>0</td>\n",
       "    </tr>\n",
       "    <tr>\n",
       "      <th>2730</th>\n",
       "      <td>2817</td>\n",
       "      <td>2817</td>\n",
       "      <td>2817</td>\n",
       "      <td>\\nVery good and original items.. superb\\n</td>\n",
       "      <td>good original item superb</td>\n",
       "      <td>0.903</td>\n",
       "      <td>0.00</td>\n",
       "      <td>0.097</td>\n",
       "      <td>0.8519</td>\n",
       "      <td>0</td>\n",
       "    </tr>\n",
       "    <tr>\n",
       "      <th>2027</th>\n",
       "      <td>2094</td>\n",
       "      <td>2094</td>\n",
       "      <td>2094</td>\n",
       "      <td>\\nColor varied from the color shown in the pic...</td>\n",
       "      <td>color varied color show picture get thick colo...</td>\n",
       "      <td>0.146</td>\n",
       "      <td>0.00</td>\n",
       "      <td>0.854</td>\n",
       "      <td>0.4404</td>\n",
       "      <td>0</td>\n",
       "    </tr>\n",
       "  </tbody>\n",
       "</table>\n",
       "</div>"
      ],
      "text/plain": [
       "      Unnamed: 0.2  Unnamed: 0.1  Unnamed: 0  \\\n",
       "2174          2249          2249        2249   \n",
       "3035          3128          3128        3128   \n",
       "1020          1056          1056        1056   \n",
       "2730          2817          2817        2817   \n",
       "2027          2094          2094        2094   \n",
       "\n",
       "                                                reviews  \\\n",
       "2174             \\nMy daughter love this bag thanks 💕\\n   \n",
       "3035  \\nI bought this for my 5year old boy. It has v...   \n",
       "1020  \\nThe American Tourister 32L backpack is a rel...   \n",
       "2730          \\nVery good and original items.. superb\\n   \n",
       "2027  \\nColor varied from the color shown in the pic...   \n",
       "\n",
       "                                            new_reviews  Positive  Negative  \\\n",
       "2174                            daughter love bag thank     0.770      0.00   \n",
       "3035  buy 5year old boy good quality space store boo...     0.318      0.00   \n",
       "1020  american tourister 32l backpack reliable pract...     0.205      0.01   \n",
       "2730                          good original item superb     0.903      0.00   \n",
       "2027  color varied color show picture get thick colo...     0.146      0.00   \n",
       "\n",
       "      Neutral  Compound  Sentiment  \n",
       "2174    0.230    0.7717          0  \n",
       "3035    0.682    0.8934          0  \n",
       "1020    0.785    0.9686          0  \n",
       "2730    0.097    0.8519          0  \n",
       "2027    0.854    0.4404          0  "
      ]
     },
     "execution_count": 4,
     "metadata": {},
     "output_type": "execute_result"
    }
   ],
   "source": [
    "test.tail()"
   ]
  },
  {
   "cell_type": "code",
   "execution_count": 5,
   "metadata": {},
   "outputs": [
    {
     "data": {
      "text/plain": [
       "2244"
      ]
     },
     "execution_count": 5,
     "metadata": {},
     "output_type": "execute_result"
    }
   ],
   "source": [
    "# positive reviews\n",
    "sum(train[\"Sentiment\"] == 0)"
   ]
  },
  {
   "cell_type": "code",
   "execution_count": 6,
   "metadata": {},
   "outputs": [
    {
     "data": {
      "text/plain": [
       "184"
      ]
     },
     "execution_count": 6,
     "metadata": {},
     "output_type": "execute_result"
    }
   ],
   "source": [
    "# negative reviews\n",
    "sum(train[\"Sentiment\"] == 1)\n"
   ]
  },
  {
   "cell_type": "code",
   "execution_count": 7,
   "metadata": {},
   "outputs": [
    {
     "data": {
      "text/plain": [
       "Unnamed: 0.2    0\n",
       "Unnamed: 0.1    0\n",
       "Unnamed: 0      0\n",
       "reviews         0\n",
       "new_reviews     0\n",
       "Positive        0\n",
       "Negative        0\n",
       "Neutral         0\n",
       "Compound        0\n",
       "Sentiment       0\n",
       "dtype: int64"
      ]
     },
     "execution_count": 7,
     "metadata": {},
     "output_type": "execute_result"
    }
   ],
   "source": [
    "# check if there are any missing values\n",
    "train.isnull().sum()"
   ]
  },
  {
   "cell_type": "code",
   "execution_count": 8,
   "metadata": {},
   "outputs": [],
   "source": [
    "from sklearn.feature_extraction.text import TfidfVectorizer, CountVectorizer \n",
    "\n",
    "\n",
    "import re #for regular expressions\n",
    "import nltk #for text manipulation\n",
    "import string\n",
    "import warnings\n",
    "import numpy as np\n",
    "import pandas as pd\n",
    "import seaborn as sns\n",
    "import matplotlib.pyplot as plt"
   ]
  },
  {
   "cell_type": "code",
   "execution_count": 9,
   "metadata": {},
   "outputs": [],
   "source": [
    "# extract the labels from the train data\n",
    "y = train.Sentiment.values\n",
    "\n",
    "# use 70% for the training and 30% for the test\n",
    "x_train, x_test, y_train, y_test = train_test_split(train.new_reviews.values, y, \n",
    "                                                    stratify=y, \n",
    "                                                    random_state=1, \n",
    "                                                    test_size=0.3, shuffle=True)"
   ]
  },
  {
   "cell_type": "code",
   "execution_count": 10,
   "metadata": {},
   "outputs": [],
   "source": [
    "from sklearn.feature_extraction.text import CountVectorizer\n",
    "\n",
    "# vectorize tweets for model building\n",
    "vectorizer = CountVectorizer(binary=True, stop_words='english')\n",
    "\n",
    "# learn a vocabulary dictionary of all tokens in the raw documents\n",
    "vectorizer.fit(list(x_train) + list(x_test))\n",
    "\n",
    "# transform documents to document-term matrix\n",
    "x_train_vec = vectorizer.transform(x_train)\n",
    "x_test_vec = vectorizer.transform(x_test)"
   ]
  },
  {
   "cell_type": "code",
   "execution_count": 11,
   "metadata": {},
   "outputs": [
    {
     "name": "stdout",
     "output_type": "stream",
     "text": [
      "Accuracy: 95.88477366255144\n"
     ]
    }
   ],
   "source": [
    "from sklearn.tree import DecisionTreeClassifier\n",
    "from sklearn import metrics #Import scikit-learn metrics module for accuracy calculation\n",
    "\n",
    "clf = DecisionTreeClassifier()\n",
    "clf = clf.fit(x_train_vec,y_train)\n",
    "y_pred = clf.predict(x_test_vec)\n",
    "print(\"Accuracy:\",metrics.accuracy_score(y_test, y_pred)*100)"
   ]
  },
  {
   "cell_type": "code",
   "execution_count": 12,
   "metadata": {},
   "outputs": [
    {
     "data": {
      "image/png": "[encoded data removed]",
      "text/plain": [
       "<Figure size 3600x2400 with 1 Axes>"
      ]
     },
     "metadata": {
      "needs_background": "light"
     },
     "output_type": "display_data"
    }
   ],
   "source": [
    "from sklearn.metrics import confusion_matrix\n",
    "\n",
    "plt.figure(dpi=600)\n",
    "mat = confusion_matrix(y_test,y_pred)\n",
    "sns.heatmap(mat.T, annot=True, fmt='d', cbar=False)\n",
    "\n",
    "plt.title('Confusion Matrix for Decision Tree')\n",
    "plt.xlabel('true label')\n",
    "plt.ylabel('predicted label')\n",
    "plt.savefig(\"confusion_matrix.png\")\n",
    "plt.show()"
   ]
  },
  {
   "cell_type": "code",
   "execution_count": 13,
   "metadata": {},
   "outputs": [
    {
     "data": {
      "text/html": [
       "<table class=\"simpletable\">\n",
       "<caption>OLS Regression Results</caption>\n",
       "<tr>\n",
       "  <th>Dep. Variable:</th>            <td>y</td>        <th>  R-squared (uncentered):</th>      <td>   0.515</td> \n",
       "</tr>\n",
       "<tr>\n",
       "  <th>Model:</th>                   <td>OLS</td>       <th>  Adj. R-squared (uncentered):</th> <td>   0.514</td> \n",
       "</tr>\n",
       "<tr>\n",
       "  <th>Method:</th>             <td>Least Squares</td>  <th>  F-statistic:       </th>          <td>   772.4</td> \n",
       "</tr>\n",
       "<tr>\n",
       "  <th>Date:</th>             <td>Thu, 28 Mar 2024</td> <th>  Prob (F-statistic):</th>          <td>1.95e-116</td>\n",
       "</tr>\n",
       "<tr>\n",
       "  <th>Time:</th>                 <td>16:18:13</td>     <th>  Log-Likelihood:    </th>          <td>  171.19</td> \n",
       "</tr>\n",
       "<tr>\n",
       "  <th>No. Observations:</th>      <td>   729</td>      <th>  AIC:               </th>          <td>  -340.4</td> \n",
       "</tr>\n",
       "<tr>\n",
       "  <th>Df Residuals:</th>          <td>   728</td>      <th>  BIC:               </th>          <td>  -335.8</td> \n",
       "</tr>\n",
       "<tr>\n",
       "  <th>Df Model:</th>              <td>     1</td>      <th>                     </th>              <td> </td>    \n",
       "</tr>\n",
       "<tr>\n",
       "  <th>Covariance Type:</th>      <td>nonrobust</td>    <th>                     </th>              <td> </td>    \n",
       "</tr>\n",
       "</table>\n",
       "<table class=\"simpletable\">\n",
       "<tr>\n",
       "   <td></td>     <th>coef</th>     <th>std err</th>      <th>t</th>      <th>P>|t|</th>  <th>[0.025</th>    <th>0.975]</th>  \n",
       "</tr>\n",
       "<tr>\n",
       "  <th>x1</th> <td>    0.7451</td> <td>    0.027</td> <td>   27.792</td> <td> 0.000</td> <td>    0.692</td> <td>    0.798</td>\n",
       "</tr>\n",
       "</table>\n",
       "<table class=\"simpletable\">\n",
       "<tr>\n",
       "  <th>Omnibus:</th>       <td>420.094</td> <th>  Durbin-Watson:     </th> <td>   1.886</td> \n",
       "</tr>\n",
       "<tr>\n",
       "  <th>Prob(Omnibus):</th> <td> 0.000</td>  <th>  Jarque-Bera (JB):  </th> <td>10602.249</td>\n",
       "</tr>\n",
       "<tr>\n",
       "  <th>Skew:</th>          <td> 2.084</td>  <th>  Prob(JB):          </th> <td>    0.00</td> \n",
       "</tr>\n",
       "<tr>\n",
       "  <th>Kurtosis:</th>      <td>21.212</td>  <th>  Cond. No.          </th> <td>    1.00</td> \n",
       "</tr>\n",
       "</table><br/><br/>Notes:<br/>[1] R² is computed without centering (uncentered) since the model does not contain a constant.<br/>[2] Standard Errors assume that the covariance matrix of the errors is correctly specified."
      ],
      "text/plain": [
       "<class 'statsmodels.iolib.summary.Summary'>\n",
       "\"\"\"\n",
       "                                 OLS Regression Results                                \n",
       "=======================================================================================\n",
       "Dep. Variable:                      y   R-squared (uncentered):                   0.515\n",
       "Model:                            OLS   Adj. R-squared (uncentered):              0.514\n",
       "Method:                 Least Squares   F-statistic:                              772.4\n",
       "Date:                Thu, 28 Mar 2024   Prob (F-statistic):                   1.95e-116\n",
       "Time:                        16:18:13   Log-Likelihood:                          171.19\n",
       "No. Observations:                 729   AIC:                                     -340.4\n",
       "Df Residuals:                     728   BIC:                                     -335.8\n",
       "Df Model:                           1                                                  \n",
       "Covariance Type:            nonrobust                                                  \n",
       "==============================================================================\n",
       "                 coef    std err          t      P>|t|      [0.025      0.975]\n",
       "------------------------------------------------------------------------------\n",
       "x1             0.7451      0.027     27.792      0.000       0.692       0.798\n",
       "==============================================================================\n",
       "Omnibus:                      420.094   Durbin-Watson:                   1.886\n",
       "Prob(Omnibus):                  0.000   Jarque-Bera (JB):            10602.249\n",
       "Skew:                           2.084   Prob(JB):                         0.00\n",
       "Kurtosis:                      21.212   Cond. No.                         1.00\n",
       "==============================================================================\n",
       "\n",
       "Notes:\n",
       "[1] R² is computed without centering (uncentered) since the model does not contain a constant.\n",
       "[2] Standard Errors assume that the covariance matrix of the errors is correctly specified.\n",
       "\"\"\""
      ]
     },
     "execution_count": 13,
     "metadata": {},
     "output_type": "execute_result"
    }
   ],
   "source": [
    "import statsmodels.api as sm\n",
    "\n",
    "ols = sm.OLS(y_test,y_pred)\n",
    "ols_result = ols.fit()\n",
    "ols_result.summary()"
   ]
  },
  {
   "cell_type": "code",
   "execution_count": 14,
   "metadata": {},
   "outputs": [],
   "source": [
    "import pickle\n",
    "file=\"tree_model.pkl\"\n",
    "fileobj=open(file,'wb')\n",
    "pickle.dump(clf,fileobj)\n",
    "fileobj.close()"
   ]
  },
  {
   "cell_type": "code",
   "execution_count": 15,
   "metadata": {},
   "outputs": [
    {
     "name": "stdout",
     "output_type": "stream",
     "text": [
      "DecisionTreeClassifier()\n"
     ]
    }
   ],
   "source": [
    "file=\"tree_model.pkl\"\n",
    "fileobj=open(file,'rb')\n",
    "mp=pickle.load(fileobj)\n",
    "print(mp)"
   ]
  },
  {
   "cell_type": "code",
   "execution_count": 17,
   "metadata": {},
   "outputs": [
    {
     "name": "stdout",
     "output_type": "stream",
     "text": [
      "[0]\n"
     ]
    }
   ],
   "source": [
    "\n",
    "\n",
    "tex=[]\n",
    "s=input(\"enter tweet\")\n",
    "tex.append(s)\n",
    "#initializing the countvectorizer \n",
    "vectorizer=CountVectorizer()\n",
    "\n",
    "#tokenize and make the document into a matrix \n",
    "document_term_matrix=vectorizer.fit_transform(tex)\n",
    "# Get feature names\n",
    "try:\n",
    "    # For scikit-learn version 0.24.0 or later\n",
    "    feature_names = vectorizer.get_feature_names_out()\n",
    "except AttributeError:\n",
    "    # For older versions\n",
    "    feature_names = vectorizer.get_feature_names()\n",
    "\n",
    "# Check the result\n",
    "pd.DataFrame(document_term_matrix.toarray(), columns=feature_names)\n",
    "vectorizer = CountVectorizer(binary=True, stop_words='english')\n",
    "\n",
    "# learn a vocabulary dictionary of all tokens in the raw documents\n",
    "vectorizer.fit(list(x_train) + list(x_test))\n",
    "\n",
    "# transform documents to document-term matrix\n",
    "hi = vectorizer.transform(tex)\n",
    "x_test_vec = vectorizer.transform(x_test)\n",
    "y_pred = mp.predict(hi)\n",
    "print(y_pred)"
   ]
  },
  {
   "cell_type": "code",
   "execution_count": null,
   "metadata": {},
   "outputs": [],
   "source": []
  }
 ],
 "metadata": {
  "kernelspec": {
   "display_name": "Python 3.9.6 64-bit",
   "language": "python",
   "name": "python3"
  },
  "language_info": {
   "codemirror_mode": {
    "name": "ipython",
    "version": 3
   },
   "file_extension": ".py",
   "mimetype": "text/x-python",
   "name": "python",
   "nbconvert_exporter": "python",
   "pygments_lexer": "ipython3",
   "version": "3.10.5"
  },
  "orig_nbformat": 4,
  "vscode": {
   "interpreter": {
    "hash": "93c3780ea30c67a58acdadae7595b721697c94e180232dd831684f3d99a76f4f"
   }
  }
 },
 "nbformat": 4,
 "nbformat_minor": 2
}

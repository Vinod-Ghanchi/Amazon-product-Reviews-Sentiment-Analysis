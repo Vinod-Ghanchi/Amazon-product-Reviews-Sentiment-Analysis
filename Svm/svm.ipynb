{
 "cells": [
  {
   "cell_type": "code",
   "execution_count": 5,
   "metadata": {},
   "outputs": [],
   "source": [
    "from sklearn.model_selection import train_test_split\n",
    "import pandas as pd"
   ]
  },
  {
   "cell_type": "code",
   "execution_count": 6,
   "metadata": {},
   "outputs": [],
   "source": [
    "df=pd.read_csv('D:/Semester 8/NLP/IA/sentimentanalyis_1-main/Labelling reviews/labelled_reviews2.csv')\n",
    "\n",
    "train, test = train_test_split(df, test_size=0.2, random_state=25)"
   ]
  },
  {
   "cell_type": "code",
   "execution_count": 7,
   "metadata": {},
   "outputs": [
    {
     "data": {
      "text/html": [
       "<div>\n",
       "<style scoped>\n",
       "    .dataframe tbody tr th:only-of-type {\n",
       "        vertical-align: middle;\n",
       "    }\n",
       "\n",
       "    .dataframe tbody tr th {\n",
       "        vertical-align: top;\n",
       "    }\n",
       "\n",
       "    .dataframe thead th {\n",
       "        text-align: right;\n",
       "    }\n",
       "</style>\n",
       "<table border=\"1\" class=\"dataframe\">\n",
       "  <thead>\n",
       "    <tr style=\"text-align: right;\">\n",
       "      <th></th>\n",
       "      <th>Unnamed: 0.2</th>\n",
       "      <th>Unnamed: 0.1</th>\n",
       "      <th>Unnamed: 0</th>\n",
       "      <th>reviews</th>\n",
       "      <th>new_reviews</th>\n",
       "      <th>Positive</th>\n",
       "      <th>Negative</th>\n",
       "      <th>Neutral</th>\n",
       "      <th>Compound</th>\n",
       "      <th>Sentiment</th>\n",
       "    </tr>\n",
       "  </thead>\n",
       "  <tbody>\n",
       "    <tr>\n",
       "      <th>9351</th>\n",
       "      <td>9523</td>\n",
       "      <td>9523</td>\n",
       "      <td>9523</td>\n",
       "      <td>\\nAwesome product\\n</td>\n",
       "      <td>awesome product</td>\n",
       "      <td>0.804</td>\n",
       "      <td>0.0</td>\n",
       "      <td>0.196</td>\n",
       "      <td>0.6249</td>\n",
       "      <td>0</td>\n",
       "    </tr>\n",
       "    <tr>\n",
       "      <th>2779</th>\n",
       "      <td>2842</td>\n",
       "      <td>2842</td>\n",
       "      <td>2842</td>\n",
       "      <td>\\nnice product... ....quality is too good........</td>\n",
       "      <td>nice product quality goodgive efficient space ...</td>\n",
       "      <td>0.444</td>\n",
       "      <td>0.0</td>\n",
       "      <td>0.556</td>\n",
       "      <td>0.6808</td>\n",
       "      <td>0</td>\n",
       "    </tr>\n",
       "    <tr>\n",
       "      <th>3104</th>\n",
       "      <td>3169</td>\n",
       "      <td>3169</td>\n",
       "      <td>3169</td>\n",
       "      <td>\\nActually it is not suitable for kids who is ...</td>\n",
       "      <td>actually suitable kid 3 yrs old issue material...</td>\n",
       "      <td>0.000</td>\n",
       "      <td>0.0</td>\n",
       "      <td>1.000</td>\n",
       "      <td>0.0000</td>\n",
       "      <td>0</td>\n",
       "    </tr>\n",
       "    <tr>\n",
       "      <th>1848</th>\n",
       "      <td>1879</td>\n",
       "      <td>1879</td>\n",
       "      <td>1879</td>\n",
       "      <td>\\nNice bag\\n</td>\n",
       "      <td>nice bag</td>\n",
       "      <td>0.737</td>\n",
       "      <td>0.0</td>\n",
       "      <td>0.263</td>\n",
       "      <td>0.4215</td>\n",
       "      <td>0</td>\n",
       "    </tr>\n",
       "    <tr>\n",
       "      <th>1863</th>\n",
       "      <td>1895</td>\n",
       "      <td>1895</td>\n",
       "      <td>1895</td>\n",
       "      <td>\\nGood\\n</td>\n",
       "      <td>good</td>\n",
       "      <td>1.000</td>\n",
       "      <td>0.0</td>\n",
       "      <td>0.000</td>\n",
       "      <td>0.4404</td>\n",
       "      <td>0</td>\n",
       "    </tr>\n",
       "  </tbody>\n",
       "</table>\n",
       "</div>"
      ],
      "text/plain": [
       "      Unnamed: 0.2  Unnamed: 0.1  Unnamed: 0  \\\n",
       "9351          9523          9523        9523   \n",
       "2779          2842          2842        2842   \n",
       "3104          3169          3169        3169   \n",
       "1848          1879          1879        1879   \n",
       "1863          1895          1895        1895   \n",
       "\n",
       "                                                reviews  \\\n",
       "9351                                \\nAwesome product\\n   \n",
       "2779  \\nnice product... ....quality is too good........   \n",
       "3104  \\nActually it is not suitable for kids who is ...   \n",
       "1848                                       \\nNice bag\\n   \n",
       "1863                                           \\nGood\\n   \n",
       "\n",
       "                                            new_reviews  Positive  Negative  \\\n",
       "9351                                    awesome product     0.804       0.0   \n",
       "2779  nice product quality goodgive efficient space ...     0.444       0.0   \n",
       "3104  actually suitable kid 3 yrs old issue material...     0.000       0.0   \n",
       "1848                                           nice bag     0.737       0.0   \n",
       "1863                                               good     1.000       0.0   \n",
       "\n",
       "      Neutral  Compound  Sentiment  \n",
       "9351    0.196    0.6249          0  \n",
       "2779    0.556    0.6808          0  \n",
       "3104    1.000    0.0000          0  \n",
       "1848    0.263    0.4215          0  \n",
       "1863    0.000    0.4404          0  "
      ]
     },
     "execution_count": 7,
     "metadata": {},
     "output_type": "execute_result"
    }
   ],
   "source": [
    "train.head()"
   ]
  },
  {
   "cell_type": "code",
   "execution_count": 8,
   "metadata": {},
   "outputs": [
    {
     "data": {
      "text/html": [
       "<div>\n",
       "<style scoped>\n",
       "    .dataframe tbody tr th:only-of-type {\n",
       "        vertical-align: middle;\n",
       "    }\n",
       "\n",
       "    .dataframe tbody tr th {\n",
       "        vertical-align: top;\n",
       "    }\n",
       "\n",
       "    .dataframe thead th {\n",
       "        text-align: right;\n",
       "    }\n",
       "</style>\n",
       "<table border=\"1\" class=\"dataframe\">\n",
       "  <thead>\n",
       "    <tr style=\"text-align: right;\">\n",
       "      <th></th>\n",
       "      <th>Unnamed: 0.2</th>\n",
       "      <th>Unnamed: 0.1</th>\n",
       "      <th>Unnamed: 0</th>\n",
       "      <th>reviews</th>\n",
       "      <th>new_reviews</th>\n",
       "      <th>Positive</th>\n",
       "      <th>Negative</th>\n",
       "      <th>Neutral</th>\n",
       "      <th>Compound</th>\n",
       "      <th>Sentiment</th>\n",
       "    </tr>\n",
       "  </thead>\n",
       "  <tbody>\n",
       "    <tr>\n",
       "      <th>8971</th>\n",
       "      <td>9140</td>\n",
       "      <td>9140</td>\n",
       "      <td>9140</td>\n",
       "      <td>\\nThe bag is awesome I got it for ₹560 on Amaz...</td>\n",
       "      <td>bag awesome get 560 amazon good price bag offe...</td>\n",
       "      <td>0.622</td>\n",
       "      <td>0.000</td>\n",
       "      <td>0.378</td>\n",
       "      <td>0.9300</td>\n",
       "      <td>0</td>\n",
       "    </tr>\n",
       "    <tr>\n",
       "      <th>2204</th>\n",
       "      <td>2258</td>\n",
       "      <td>2258</td>\n",
       "      <td>2258</td>\n",
       "      <td>\\nVery good product.My son likes this very muc...</td>\n",
       "      <td>good productmy son like muchgood class 3 upto ...</td>\n",
       "      <td>0.435</td>\n",
       "      <td>0.000</td>\n",
       "      <td>0.565</td>\n",
       "      <td>0.6597</td>\n",
       "      <td>0</td>\n",
       "    </tr>\n",
       "    <tr>\n",
       "      <th>6816</th>\n",
       "      <td>6959</td>\n",
       "      <td>6959</td>\n",
       "      <td>6959</td>\n",
       "      <td>\\nThis product is superb quality as shown in t...</td>\n",
       "      <td>product superb quality show picture nice love</td>\n",
       "      <td>0.735</td>\n",
       "      <td>0.000</td>\n",
       "      <td>0.265</td>\n",
       "      <td>0.9022</td>\n",
       "      <td>0</td>\n",
       "    </tr>\n",
       "    <tr>\n",
       "      <th>8219</th>\n",
       "      <td>8387</td>\n",
       "      <td>8387</td>\n",
       "      <td>8387</td>\n",
       "      <td>\\nthe price is damn good for the product looks...</td>\n",
       "      <td>price damn good product look sturdywill use co...</td>\n",
       "      <td>0.230</td>\n",
       "      <td>0.214</td>\n",
       "      <td>0.556</td>\n",
       "      <td>0.0516</td>\n",
       "      <td>0</td>\n",
       "    </tr>\n",
       "    <tr>\n",
       "      <th>4990</th>\n",
       "      <td>5108</td>\n",
       "      <td>5108</td>\n",
       "      <td>5108</td>\n",
       "      <td>\\nWriting this review after 1 year of use.Awes...</td>\n",
       "      <td>write review 1 year useawesome material stitch...</td>\n",
       "      <td>0.306</td>\n",
       "      <td>0.000</td>\n",
       "      <td>0.694</td>\n",
       "      <td>0.5938</td>\n",
       "      <td>0</td>\n",
       "    </tr>\n",
       "  </tbody>\n",
       "</table>\n",
       "</div>"
      ],
      "text/plain": [
       "      Unnamed: 0.2  Unnamed: 0.1  Unnamed: 0  \\\n",
       "8971          9140          9140        9140   \n",
       "2204          2258          2258        2258   \n",
       "6816          6959          6959        6959   \n",
       "8219          8387          8387        8387   \n",
       "4990          5108          5108        5108   \n",
       "\n",
       "                                                reviews  \\\n",
       "8971  \\nThe bag is awesome I got it for ₹560 on Amaz...   \n",
       "2204  \\nVery good product.My son likes this very muc...   \n",
       "6816  \\nThis product is superb quality as shown in t...   \n",
       "8219  \\nthe price is damn good for the product looks...   \n",
       "4990  \\nWriting this review after 1 year of use.Awes...   \n",
       "\n",
       "                                            new_reviews  Positive  Negative  \\\n",
       "8971  bag awesome get 560 amazon good price bag offe...     0.622     0.000   \n",
       "2204  good productmy son like muchgood class 3 upto ...     0.435     0.000   \n",
       "6816      product superb quality show picture nice love     0.735     0.000   \n",
       "8219  price damn good product look sturdywill use co...     0.230     0.214   \n",
       "4990  write review 1 year useawesome material stitch...     0.306     0.000   \n",
       "\n",
       "      Neutral  Compound  Sentiment  \n",
       "8971    0.378    0.9300          0  \n",
       "2204    0.565    0.6597          0  \n",
       "6816    0.265    0.9022          0  \n",
       "8219    0.556    0.0516          0  \n",
       "4990    0.694    0.5938          0  "
      ]
     },
     "execution_count": 8,
     "metadata": {},
     "output_type": "execute_result"
    }
   ],
   "source": [
    "test.tail()"
   ]
  },
  {
   "cell_type": "code",
   "execution_count": 9,
   "metadata": {},
   "outputs": [
    {
     "data": {
      "text/plain": [
       "6587"
      ]
     },
     "execution_count": 9,
     "metadata": {},
     "output_type": "execute_result"
    }
   ],
   "source": [
    "# positive reviews\n",
    "sum(train[\"Sentiment\"] == 0)"
   ]
  },
  {
   "cell_type": "code",
   "execution_count": 10,
   "metadata": {},
   "outputs": [
    {
     "data": {
      "text/plain": [
       "975"
      ]
     },
     "execution_count": 10,
     "metadata": {},
     "output_type": "execute_result"
    }
   ],
   "source": [
    "# negative reviews\n",
    "sum(train[\"Sentiment\"] == 1)\n"
   ]
  },
  {
   "cell_type": "code",
   "execution_count": 11,
   "metadata": {},
   "outputs": [
    {
     "data": {
      "text/plain": [
       "Unnamed: 0.2    0\n",
       "Unnamed: 0.1    0\n",
       "Unnamed: 0      0\n",
       "reviews         0\n",
       "new_reviews     0\n",
       "Positive        0\n",
       "Negative        0\n",
       "Neutral         0\n",
       "Compound        0\n",
       "Sentiment       0\n",
       "dtype: int64"
      ]
     },
     "execution_count": 11,
     "metadata": {},
     "output_type": "execute_result"
    }
   ],
   "source": [
    "# check if there are any missing values\n",
    "train.isnull().sum()"
   ]
  },
  {
   "cell_type": "code",
   "execution_count": 12,
   "metadata": {},
   "outputs": [],
   "source": [
    "from sklearn.feature_extraction.text import CountVectorizer"
   ]
  },
  {
   "cell_type": "code",
   "execution_count": 13,
   "metadata": {},
   "outputs": [],
   "source": [
    "from sklearn.feature_extraction.text import TfidfVectorizer, CountVectorizer \n",
    "\n",
    "\n",
    "import re #for regular expressions\n",
    "import nltk #for text manipulation\n",
    "import string\n",
    "import warnings\n",
    "import numpy as np\n",
    "import pandas as pd\n",
    "import seaborn as sns\n",
    "import matplotlib.pyplot as plt"
   ]
  },
  {
   "cell_type": "code",
   "execution_count": 14,
   "metadata": {},
   "outputs": [],
   "source": [
    "# extract the labels from the train data\n",
    "y = train.Sentiment.values\n",
    "\n",
    "# use 70% for the training and 30% for the test\n",
    "x_train, x_test, y_train, y_test = train_test_split(train.new_reviews.values, y, \n",
    "                                                    stratify=y, \n",
    "                                                    random_state=1, \n",
    "                                                    test_size=0.3, shuffle=True)"
   ]
  },
  {
   "cell_type": "code",
   "execution_count": null,
   "metadata": {},
   "outputs": [
    {
     "ename": "AttributeError",
     "evalue": "'CountVectorizer' object has no attribute 'get_feature_names'",
     "output_type": "error",
     "traceback": [
      "\u001b[1;31m---------------------------------------------------------------------------\u001b[0m",
      "\u001b[1;31mAttributeError\u001b[0m                            Traceback (most recent call last)",
      "Input \u001b[1;32mIn [38]\u001b[0m, in \u001b[0;36m<cell line: 12>\u001b[1;34m()\u001b[0m\n\u001b[0;32m      9\u001b[0m document_term_matrix \u001b[38;5;241m=\u001b[39m vectorizer\u001b[38;5;241m.\u001b[39mfit_transform(documents)\n\u001b[0;32m     11\u001b[0m \u001b[38;5;66;03m# check the result\u001b[39;00m\n\u001b[1;32m---> 12\u001b[0m pd\u001b[38;5;241m.\u001b[39mDataFrame(document_term_matrix\u001b[38;5;241m.\u001b[39mtoarray(), columns \u001b[38;5;241m=\u001b[39m \u001b[43mvectorizer\u001b[49m\u001b[38;5;241;43m.\u001b[39;49m\u001b[43mget_feature_names\u001b[49m())\n",
      "\u001b[1;31mAttributeError\u001b[0m: 'CountVectorizer' object has no attribute 'get_feature_names'"
     ]
    }
   ],
   "source": [
    "documents = [\"This is Import Data's Youtube channel\",\n",
    "             \"Data science is my passion and it is fun!\",\n",
    "             \"Please subscribe to my channel\"]\n",
    "\n",
    "# initializing the countvectorizer\n",
    "vectorizer = CountVectorizer()\n",
    "\n",
    "# tokenize and make the document into a matrix\n",
    "document_term_matrix = vectorizer.fit_transform(documents)\n",
    "\n",
    "# check the result\n",
    "pd.DataFrame(document_term_matrix.toarray(), columns = vectorizer.get_feature_names())"
   ]
  },
  {
   "cell_type": "code",
   "execution_count": 15,
   "metadata": {},
   "outputs": [],
   "source": [
    "from sklearn.feature_extraction.text import CountVectorizer\n",
    "\n",
    "# vectorize tweets for model building\n",
    "vectorizer = CountVectorizer(binary=True, stop_words='english')\n",
    "\n",
    "# learn a vocabulary dictionary of all tokens in the raw documents\n",
    "vectorizer.fit(list(x_train) + list(x_test))\n",
    "\n",
    "# transform documents to document-term matrix\n",
    "x_train_vec = vectorizer.transform(x_train)\n",
    "x_test_vec = vectorizer.transform(x_test)"
   ]
  },
  {
   "cell_type": "markdown",
   "metadata": {},
   "source": [
    "SVM model"
   ]
  },
  {
   "cell_type": "code",
   "execution_count": 16,
   "metadata": {},
   "outputs": [],
   "source": [
    "from sklearn import svm\n",
    "# classify using support vector classifier\n",
    "svm = svm.SVC(kernel = 'linear', probability=True)\n",
    "\n",
    "# fit the SVC model based on the given training data\n",
    "prob = svm.fit(x_train_vec, y_train).predict_proba(x_test_vec)\n",
    "\n",
    "# perform classification and prediction on samples in x_test\n",
    "y_pred_svm = svm.predict(x_test_vec)"
   ]
  },
  {
   "cell_type": "code",
   "execution_count": 17,
   "metadata": {},
   "outputs": [
    {
     "name": "stdout",
     "output_type": "stream",
     "text": [
      "Accuracy score for SVC is:  96.38607315998236 %\n"
     ]
    }
   ],
   "source": [
    "from sklearn.metrics import accuracy_score\n",
    "print(\"Accuracy score for SVC is: \", accuracy_score(y_test, y_pred_svm) * 100, '%')\n"
   ]
  },
  {
   "cell_type": "code",
   "execution_count": 18,
   "metadata": {},
   "outputs": [
    {
     "data": {
      "image/png": "[encoded data removed]",
      "text/plain": [
       "<Figure size 3600x2400 with 1 Axes>"
      ]
     },
     "metadata": {
      "needs_background": "light"
     },
     "output_type": "display_data"
    }
   ],
   "source": [
    "from sklearn.metrics import confusion_matrix\n",
    "\n",
    "plt.figure(dpi=600)\n",
    "mat = confusion_matrix(y_test,y_pred_svm)\n",
    "sns.heatmap(mat.T, annot=True, fmt='d', cbar=False)\n",
    "\n",
    "plt.title('Confusion Matrix for SVM ')\n",
    "plt.xlabel('true label')\n",
    "plt.ylabel('predicted label')\n",
    "plt.savefig(\"confusion_matrix.png\")\n",
    "plt.show()"
   ]
  },
  {
   "cell_type": "code",
   "execution_count": 19,
   "metadata": {},
   "outputs": [
    {
     "data": {
      "text/html": [
       "<table class=\"simpletable\">\n",
       "<caption>OLS Regression Results</caption>\n",
       "<tr>\n",
       "  <th>Dep. Variable:</th>            <td>y</td>        <th>  R-squared (uncentered):</th>      <td>   0.742</td>\n",
       "</tr>\n",
       "<tr>\n",
       "  <th>Model:</th>                   <td>OLS</td>       <th>  Adj. R-squared (uncentered):</th> <td>   0.742</td>\n",
       "</tr>\n",
       "<tr>\n",
       "  <th>Method:</th>             <td>Least Squares</td>  <th>  F-statistic:       </th>          <td>   6531.</td>\n",
       "</tr>\n",
       "<tr>\n",
       "  <th>Date:</th>             <td>Thu, 28 Mar 2024</td> <th>  Prob (F-statistic):</th>           <td>  0.00</td> \n",
       "</tr>\n",
       "<tr>\n",
       "  <th>Time:</th>                 <td>15:50:51</td>     <th>  Log-Likelihood:    </th>          <td>  640.71</td>\n",
       "</tr>\n",
       "<tr>\n",
       "  <th>No. Observations:</th>      <td>  2269</td>      <th>  AIC:               </th>          <td>  -1279.</td>\n",
       "</tr>\n",
       "<tr>\n",
       "  <th>Df Residuals:</th>          <td>  2268</td>      <th>  BIC:               </th>          <td>  -1274.</td>\n",
       "</tr>\n",
       "<tr>\n",
       "  <th>Df Model:</th>              <td>     1</td>      <th>                     </th>              <td> </td>   \n",
       "</tr>\n",
       "<tr>\n",
       "  <th>Covariance Type:</th>      <td>nonrobust</td>    <th>                     </th>              <td> </td>   \n",
       "</tr>\n",
       "</table>\n",
       "<table class=\"simpletable\">\n",
       "<tr>\n",
       "   <td></td>     <th>coef</th>     <th>std err</th>      <th>t</th>      <th>P>|t|</th>  <th>[0.025</th>    <th>0.975]</th>  \n",
       "</tr>\n",
       "<tr>\n",
       "  <th>x1</th> <td>    0.8528</td> <td>    0.011</td> <td>   80.813</td> <td> 0.000</td> <td>    0.832</td> <td>    0.874</td>\n",
       "</tr>\n",
       "</table>\n",
       "<table class=\"simpletable\">\n",
       "<tr>\n",
       "  <th>Omnibus:</th>       <td>693.870</td> <th>  Durbin-Watson:     </th> <td>   1.935</td> \n",
       "</tr>\n",
       "<tr>\n",
       "  <th>Prob(Omnibus):</th> <td> 0.000</td>  <th>  Jarque-Bera (JB):  </th> <td>44145.159</td>\n",
       "</tr>\n",
       "<tr>\n",
       "  <th>Skew:</th>          <td> 0.569</td>  <th>  Prob(JB):          </th> <td>    0.00</td> \n",
       "</tr>\n",
       "<tr>\n",
       "  <th>Kurtosis:</th>      <td>24.579</td>  <th>  Cond. No.          </th> <td>    1.00</td> \n",
       "</tr>\n",
       "</table><br/><br/>Notes:<br/>[1] R² is computed without centering (uncentered) since the model does not contain a constant.<br/>[2] Standard Errors assume that the covariance matrix of the errors is correctly specified."
      ],
      "text/plain": [
       "<class 'statsmodels.iolib.summary.Summary'>\n",
       "\"\"\"\n",
       "                                 OLS Regression Results                                \n",
       "=======================================================================================\n",
       "Dep. Variable:                      y   R-squared (uncentered):                   0.742\n",
       "Model:                            OLS   Adj. R-squared (uncentered):              0.742\n",
       "Method:                 Least Squares   F-statistic:                              6531.\n",
       "Date:                Thu, 28 Mar 2024   Prob (F-statistic):                        0.00\n",
       "Time:                        15:50:51   Log-Likelihood:                          640.71\n",
       "No. Observations:                2269   AIC:                                     -1279.\n",
       "Df Residuals:                    2268   BIC:                                     -1274.\n",
       "Df Model:                           1                                                  \n",
       "Covariance Type:            nonrobust                                                  \n",
       "==============================================================================\n",
       "                 coef    std err          t      P>|t|      [0.025      0.975]\n",
       "------------------------------------------------------------------------------\n",
       "x1             0.8528      0.011     80.813      0.000       0.832       0.874\n",
       "==============================================================================\n",
       "Omnibus:                      693.870   Durbin-Watson:                   1.935\n",
       "Prob(Omnibus):                  0.000   Jarque-Bera (JB):            44145.159\n",
       "Skew:                           0.569   Prob(JB):                         0.00\n",
       "Kurtosis:                      24.579   Cond. No.                         1.00\n",
       "==============================================================================\n",
       "\n",
       "Notes:\n",
       "[1] R² is computed without centering (uncentered) since the model does not contain a constant.\n",
       "[2] Standard Errors assume that the covariance matrix of the errors is correctly specified.\n",
       "\"\"\""
      ]
     },
     "execution_count": 19,
     "metadata": {},
     "output_type": "execute_result"
    }
   ],
   "source": [
    "import statsmodels.api as sm\n",
    "\n",
    "ols = sm.OLS(y_test,y_pred_svm)\n",
    "ols_result = ols.fit()\n",
    "ols_result.summary()"
   ]
  },
  {
   "cell_type": "code",
   "execution_count": 20,
   "metadata": {},
   "outputs": [],
   "source": [
    "import pickle"
   ]
  },
  {
   "cell_type": "code",
   "execution_count": 21,
   "metadata": {},
   "outputs": [],
   "source": [
    "file=\"svm_model.pkl\"\n",
    "fileobj=open(file,'wb')\n",
    "pickle.dump(svm,fileobj)\n",
    "fileobj.close()"
   ]
  },
  {
   "cell_type": "code",
   "execution_count": 22,
   "metadata": {},
   "outputs": [
    {
     "name": "stdout",
     "output_type": "stream",
     "text": [
      "SVC(kernel='linear', probability=True)\n"
     ]
    }
   ],
   "source": [
    "file=\"svm_model.pkl\"\n",
    "fileobj=open(file,'rb')\n",
    "mp=pickle.load(fileobj)\n",
    "print(mp)"
   ]
  },
  {
   "cell_type": "code",
   "execution_count": 26,
   "metadata": {},
   "outputs": [
    {
     "name": "stdout",
     "output_type": "stream",
     "text": [
      "[0]\n"
     ]
    }
   ],
   "source": [
    "\n",
    "\n",
    "tex=[]\n",
    "s=input(\"enter tweet\")\n",
    "tex.append(s)\n",
    "#initializing the countvectorizer \n",
    "vectorizer=CountVectorizer()\n",
    "\n",
    "#tokenize and make the document into a matrix \n",
    "document_term_matrix=vectorizer.fit_transform(tex)\n",
    "\n",
    "# Get feature names\n",
    "try:\n",
    "    # For scikit-learn version 0.24.0 or later\n",
    "    feature_names = vectorizer.get_feature_names_out()\n",
    "except AttributeError:\n",
    "    # For older versions\n",
    "    feature_names = vectorizer.get_feature_names()\n",
    "\n",
    "# Check the result\n",
    "pd.DataFrame(document_term_matrix.toarray(), columns=feature_names)\n",
    "vectorizer = CountVectorizer(binary=True, stop_words='english')\n",
    "\n",
    "# learn a vocabulary dictionary of all tokens in the raw documents\n",
    "vectorizer.fit(list(x_train) + list(x_test))\n",
    "\n",
    "\n",
    "\n",
    "# transform documents to document-term matrix\n",
    "hi = vectorizer.transform(tex)\n",
    "x_test_vec = vectorizer.transform(x_test)\n",
    "y_pred = mp.predict(hi)\n",
    "print(y_pred)"
   ]
  },
  {
   "cell_type": "code",
   "execution_count": null,
   "metadata": {},
   "outputs": [],
   "source": []
  }
 ],
 "metadata": {
  "kernelspec": {
   "display_name": "Python 3.9.6 64-bit",
   "language": "python",
   "name": "python3"
  },
  "language_info": {
   "codemirror_mode": {
    "name": "ipython",
    "version": 3
   },
   "file_extension": ".py",
   "mimetype": "text/x-python",
   "name": "python",
   "nbconvert_exporter": "python",
   "pygments_lexer": "ipython3",
   "version": "3.10.5"
  },
  "orig_nbformat": 4,
  "vscode": {
   "interpreter": {
    "hash": "93c3780ea30c67a58acdadae7595b721697c94e180232dd831684f3d99a76f4f"
   }
  }
 },
 "nbformat": 4,
 "nbformat_minor": 2
}
